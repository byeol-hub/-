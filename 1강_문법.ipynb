{
 "cells": [
  {
   "cell_type": "markdown",
   "metadata": {},
   "source": [
    "표준 입출력"
   ]
  },
  {
   "cell_type": "code",
   "execution_count": 9,
   "metadata": {},
   "outputs": [
    {
     "name": "stdout",
     "output_type": "stream",
     "text": [
      "3\n",
      "3\n",
      "[1, 2, 3]\n",
      "1 2 3\n",
      "['1', '2', '3']\n"
     ]
    }
   ],
   "source": [
    "#표준 입출력 함수\n",
    "s = input()\n",
    "print(s)\n",
    "\n",
    "#데이터의 개수 입력\n",
    "n = int(input())\n",
    "print(n)\n",
    "\n",
    "#공백을 기준으로 구분된 데이터를 입력 받음\n",
    "\n",
    "#1.데이터형을 지정할 수 있음, 데이터가 많을 때 -> list 사용\n",
    "data = list(map(int, input().split()))\n",
    "print(data)\n",
    "\n",
    "#2.데이터형을 지정할 수 있음, 데이터가 많지 않을 때 -> 바로 받음\n",
    "a, b, c = map(int, input().split()) #입력받을 데이터의 개수만큼 변수 생성 -> 입력 데이터 개수와 변수의 개수가 같지 않을 시에 오류 발생\n",
    "print(a, b, c)\n",
    "\n",
    "#3.map()을 사용하지 않고 입력 받음 -> 데이터가 문자열로 들어감\n",
    "d = input().split()\n",
    "print(d)"
   ]
  },
  {
   "cell_type": "markdown",
   "metadata": {},
   "source": [
    "표준 출력법"
   ]
  },
  {
   "cell_type": "code",
   "execution_count": null,
   "metadata": {},
   "outputs": [
    {
     "name": "stdout",
     "output_type": "stream",
     "text": [
      "1 2\n",
      "1 2\n",
      "a는1이다.\n",
      "a는 1이다.\n"
     ]
    }
   ],
   "source": [
    "a = 1\n",
    "b = 2\n",
    "\n",
    "#여러 개의 변수를 한번에 출력\n",
    "print(a, b)\n",
    "\n",
    "#출력 후 자동 줄 바꿈을 공백으로 바꿈 \n",
    "print(a, end = \"\")\n",
    "print(b)\n",
    "\n",
    "#문자열과 정수는 합칠 수 없기 때문에 정수형을 문자열로 바꾼 후 +연산자를 사용해 출력\n",
    "print(\"a는\" + str(a) + \"이다.\")\n",
    "\n",
    "#문자열 앞에 f를 붙이고 중괄호 안에 변수명을 넣어 문자열과 정수를 같이 넣을 수 있음\n",
    "print(f\"a는 {a}이다.\")"
   ]
  },
  {
   "cell_type": "markdown",
   "metadata": {},
   "source": [
    "전역변수/지역변수"
   ]
  },
  {
   "cell_type": "code",
   "execution_count": null,
   "metadata": {},
   "outputs": [
    {
     "name": "stdout",
     "output_type": "stream",
     "text": [
      "[2, 3, 4, 5]\n",
      "[1, 2, 3]\n"
     ]
    }
   ],
   "source": [
    "a = [1,2,3]\n",
    "\n",
    "def func():\n",
    "    a = [2,3,4]\n",
    "    a.append(5)\n",
    "    print(a)\n",
    "\n",
    "func()\n",
    "print(a)\n"
   ]
  },
  {
   "cell_type": "code",
   "execution_count": 2,
   "metadata": {},
   "outputs": [
    {
     "ename": "SyntaxError",
     "evalue": "invalid syntax (572836969.py, line 5)",
     "output_type": "error",
     "traceback": [
      "\u001b[1;36m  Cell \u001b[1;32mIn[2], line 5\u001b[1;36m\u001b[0m\n\u001b[1;33m    global a.append(5)\u001b[0m\n\u001b[1;37m            ^\u001b[0m\n\u001b[1;31mSyntaxError\u001b[0m\u001b[1;31m:\u001b[0m invalid syntax\n"
     ]
    }
   ],
   "source": [
    "a = [1,2,3]\n",
    "\n",
    "def func():\n",
    "    a = [2,3,4]\n",
    "    global a.append(5)\n",
    "    print(a)\n",
    "\n",
    "func()\n",
    "print(a)"
   ]
  },
  {
   "cell_type": "code",
   "execution_count": null,
   "metadata": {},
   "outputs": [],
   "source": []
  }
 ],
 "metadata": {
  "kernelspec": {
   "display_name": "Python 3",
   "language": "python",
   "name": "python3"
  },
  "language_info": {
   "codemirror_mode": {
    "name": "ipython",
    "version": 3
   },
   "file_extension": ".py",
   "mimetype": "text/x-python",
   "name": "python",
   "nbconvert_exporter": "python",
   "pygments_lexer": "ipython3",
   "version": "3.9.1"
  }
 },
 "nbformat": 4,
 "nbformat_minor": 2
}
