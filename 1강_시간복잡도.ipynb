{
 "cells": [
  {
   "cell_type": "markdown",
   "metadata": {},
   "source": [
    "N개의 데이터의 합을 계산  \n",
    "*수행시간: 데이터의 개수(N)에 비례  \n",
    "*시간복잡도: O(N)"
   ]
  },
  {
   "cell_type": "code",
   "execution_count": 1,
   "metadata": {},
   "outputs": [
    {
     "name": "stdout",
     "output_type": "stream",
     "text": [
      "15\n"
     ]
    }
   ],
   "source": [
    "array = [1,2,3,4,5] # 리스트 생성, 데이터의 수: 5 -> N=5\n",
    "sum = 0 # 합계 저장 변수\n",
    "\n",
    "# 모든 데이터를 하나씩 확인하며 합계 계산 -> 수행 시간 결정(n이 커짐에 따라 영향을 받는 부분)\n",
    "for i in array:\n",
    "    sum += i\n",
    "\n",
    "# 결과 출력\n",
    "print(sum)"
   ]
  },
  {
   "cell_type": "markdown",
   "metadata": {},
   "source": [
    "2중 반복문  \n",
    "*시간복잡도: O(N^2)"
   ]
  },
  {
   "cell_type": "code",
   "execution_count": 2,
   "metadata": {},
   "outputs": [
    {
     "name": "stdout",
     "output_type": "stream",
     "text": [
      "1\n",
      "2\n",
      "3\n",
      "4\n",
      "5\n",
      "2\n",
      "4\n",
      "6\n",
      "8\n",
      "10\n",
      "3\n",
      "6\n",
      "9\n",
      "12\n",
      "15\n",
      "4\n",
      "8\n",
      "12\n",
      "16\n",
      "20\n",
      "5\n",
      "10\n",
      "15\n",
      "20\n",
      "25\n"
     ]
    }
   ],
   "source": [
    "array = [1,2,3,4,5]\n",
    "\n",
    "# N을 N번 확인 -> N*N\n",
    "for i in array:\n",
    "    for j in array:\n",
    "        temp = i*j\n",
    "        print(temp)"
   ]
  },
  {
   "cell_type": "markdown",
   "metadata": {},
   "source": []
  }
 ],
 "metadata": {
  "kernelspec": {
   "display_name": "Python 3",
   "language": "python",
   "name": "python3"
  },
  "language_info": {
   "codemirror_mode": {
    "name": "ipython",
    "version": 3
   },
   "file_extension": ".py",
   "mimetype": "text/x-python",
   "name": "python",
   "nbconvert_exporter": "python",
   "pygments_lexer": "ipython3",
   "version": "3.9.1"
  }
 },
 "nbformat": 4,
 "nbformat_minor": 2
}
